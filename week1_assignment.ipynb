{
 "cells": [
  {
   "cell_type": "code",
   "execution_count": 6,
   "id": "32c672a3-89e4-462e-9114-d7b07de6714e",
   "metadata": {},
   "outputs": [
    {
     "name": "stdin",
     "output_type": "stream",
     "text": [
      "Enter first number: 66\n",
      "Enter second number: 11\n"
     ]
    },
    {
     "name": "stdout",
     "output_type": "stream",
     "text": [
      "Addition: 77\n",
      "Substraction: 55\n",
      "Division: 6.0\n",
      "Multiplication: 726\n"
     ]
    }
   ],
   "source": [
    "num1 = int(input(\"Enter first number:\"))\n",
    "num2 = int(input(\"Enter second number:\"))\n",
    "add = num1 + num2\n",
    "sub = num1 - num2\n",
    "div = num1 / num2\n",
    "mul = num1 * num2\n",
    "\n",
    "print(\"Addition:\", add)\n",
    "print(\"Substraction:\", sub)\n",
    "print(\"Division:\", div)\n",
    "print(\"Multiplication:\", mul)"
   ]
  },
  {
   "cell_type": "code",
   "execution_count": 8,
   "id": "2d5bd826-ffc6-4033-83ff-f1b76cf205d9",
   "metadata": {},
   "outputs": [
    {
     "name": "stdin",
     "output_type": "stream",
     "text": [
      "Enter a number: -1\n"
     ]
    },
    {
     "name": "stdout",
     "output_type": "stream",
     "text": [
      "a is negative number\n"
     ]
    }
   ],
   "source": [
    "a = int(input(\"Enter a number:\"))\n",
    "if a>0:\n",
    "    print(\"a is positive number\")\n",
    "elif a==0:\n",
    "    print(\"a is zero\")\n",
    "else:\n",
    "    print(\"a is negative number\")\n",
    "\n"
   ]
  },
  {
   "cell_type": "code",
   "execution_count": 15,
   "id": "48da4dfa-6b9f-4ef7-bd85-cfa3c795cae5",
   "metadata": {},
   "outputs": [
    {
     "name": "stdin",
     "output_type": "stream",
     "text": [
      "Enter a string:  london\n"
     ]
    },
    {
     "name": "stdout",
     "output_type": "stream",
     "text": [
      "nodnol\n"
     ]
    }
   ],
   "source": [
    "s = input(\"Enter a string: \")\n",
    "print (s[::-1])\n"
   ]
  },
  {
   "cell_type": "code",
   "execution_count": null,
   "id": "f90d0591-fc7d-447d-9a19-d8b1b4a88ec3",
   "metadata": {},
   "outputs": [],
   "source": []
  }
 ],
 "metadata": {
  "kernelspec": {
   "display_name": "Python 3 (ipykernel)",
   "language": "python",
   "name": "python3"
  },
  "language_info": {
   "codemirror_mode": {
    "name": "ipython",
    "version": 3
   },
   "file_extension": ".py",
   "mimetype": "text/x-python",
   "name": "python",
   "nbconvert_exporter": "python",
   "pygments_lexer": "ipython3",
   "version": "3.11.7"
  }
 },
 "nbformat": 4,
 "nbformat_minor": 5
}
